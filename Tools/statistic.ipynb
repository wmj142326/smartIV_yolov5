{
 "cells": [
  {
   "cell_type": "code",
   "execution_count": 1,
   "metadata": {
    "collapsed": true
   },
   "outputs": [],
   "source": [
    "import pandas as pd\n",
    "import numpy as np\n",
    "import os "
   ]
  },
  {
   "cell_type": "code",
   "execution_count": null,
   "metadata": {},
   "outputs": [],
   "source": [
    "'''\n",
    "path是label的地方,同级目录下有labels文件夹,文件夹里的是json文件\n",
    "输出是四个csv,\n",
    "'''"
   ]
  },
  {
   "cell_type": "code",
   "execution_count": 2,
   "metadata": {
    "collapsed": false
   },
   "outputs": [],
   "source": [
    "path = './labels/'\n",
    "img_path_list = []\n",
    "for home, dirs, files in os.walk(path):\n",
    "    for file in files:\n",
    "        img_path = os.path.join(home,file)\n",
    "        img_path_list.append(img_path)"
   ]
  },
  {
   "cell_type": "code",
   "execution_count": 3,
   "metadata": {},
   "outputs": [],
   "source": [
    "df_total = pd.DataFrame()\n",
    "for file_path in img_path_list:\n",
    "    df = pd.read_json(file_path)\n",
    "    df = df.replace(to_replace='yes', value=np.nan).dropna()\n",
    "    df_total = pd.concat([df_total,df])"
   ]
  },
  {
   "cell_type": "code",
   "execution_count": 4,
   "metadata": {},
   "outputs": [],
   "source": [
    "df_total.to_csv('total.csv',index=0,encoding='utf_8_sig')"
   ]
  },
  {
   "cell_type": "code",
   "execution_count": 8,
   "metadata": {},
   "outputs": [],
   "source": [
    "df_total['category_name'].value_counts(dropna=False).to_csv('category_name.csv',encoding='utf_8_sig')"
   ]
  },
  {
   "cell_type": "code",
   "execution_count": 9,
   "metadata": {},
   "outputs": [],
   "source": [
    "df_total['occlusion'].value_counts(dropna=False).to_csv('occlusion.csv',encoding='utf_8_sig')"
   ]
  },
  {
   "cell_type": "code",
   "execution_count": 10,
   "metadata": {},
   "outputs": [],
   "source": [
    "df_total['truncation'].value_counts(dropna=False).to_csv('truncation.csv',encoding='utf_8_sig')"
   ]
  },
  {
   "cell_type": "code",
   "execution_count": null,
   "metadata": {},
   "outputs": [],
   "source": []
  }
 ],
 "metadata": {
  "kernelspec": {
   "display_name": "Python 3.9.12 ('base': conda)",
   "language": "python",
   "name": "python3"
  },
  "language_info": {
   "codemirror_mode": {
    "name": "ipython",
    "version": 3
   },
   "file_extension": ".py",
   "mimetype": "text/x-python",
   "name": "python",
   "nbconvert_exporter": "python",
   "pygments_lexer": "ipython3",
   "version": "3.9.12 (main, Apr  5 2022, 06:56:58) \n[GCC 7.5.0]"
  },
  "vscode": {
   "interpreter": {
    "hash": "56552b8d7760da0a17aed497bfd4555bfec8a0dcf1d365642c02212328480486"
   }
  }
 },
 "nbformat": 4,
 "nbformat_minor": 0
}
